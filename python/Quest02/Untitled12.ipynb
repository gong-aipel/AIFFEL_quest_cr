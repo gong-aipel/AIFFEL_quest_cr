{
  "nbformat": 4,
  "nbformat_minor": 0,
  "metadata": {
    "colab": {
      "provenance": [],
      "mount_file_id": "1CxIIk2r-ev4CHzIu0fihgSt3JElm77QF",
      "authorship_tag": "ABX9TyO1/ZO7YQKGLQ+GAnMW/WWM",
      "include_colab_link": true
    },
    "kernelspec": {
      "name": "python3",
      "display_name": "Python 3"
    },
    "language_info": {
      "name": "python"
    }
  },
  "cells": [
    {
      "cell_type": "markdown",
      "metadata": {
        "id": "view-in-github",
        "colab_type": "text"
      },
      "source": [
        "<a href=\"https://colab.research.google.com/github/gong-aipel/AIFFEL_quest_cr/blob/main/python/Quest02/Untitled12.ipynb\" target=\"_parent\"><img src=\"https://colab.research.google.com/assets/colab-badge.svg\" alt=\"Open In Colab\"/></a>"
      ]
    },
    {
      "cell_type": "code",
      "source": [
        "from google.colab import drive\n",
        "drive.mount('/content/drive')\n",
        "data = open('/content/drive/MyDrive/Avengers.txt')\n",
        "\n",
        "with open('/content/drive/MyDrive//Avengers.txt') as file:\n",
        "  text = file.read()\n",
        "  text_lower = text.lower()"
      ],
      "metadata": {
        "colab": {
          "base_uri": "https://localhost:8080/"
        },
        "id": "nBbv8yaWdpzt",
        "outputId": "167d4f4e-deab-4312-98d1-614409fb329d"
      },
      "execution_count": 5,
      "outputs": [
        {
          "output_type": "stream",
          "name": "stdout",
          "text": [
            "Drive already mounted at /content/drive; to attempt to forcibly remount, call drive.mount(\"/content/drive\", force_remount=True).\n"
          ]
        }
      ]
    },
    {
      "cell_type": "code",
      "source": [
        "with open('/content/drive/MyDrive/Avengers.txt') as file:\n",
        "  text = file.read()\n",
        "  text_lower = text.lower()"
      ],
      "metadata": {
        "id": "rotRENRUlhN7"
      },
      "execution_count": 7,
      "outputs": []
    },
    {
      "cell_type": "code",
      "source": [
        "#어벤저스 파일을 불러온다.\n",
        "from google.colab import drive\n",
        "drive.mount('/content/drive')\n",
        "data = open('/content/drive/MyDrive/Avengers.txt')\n",
        "\n",
        "#모든 문자를 소문자로 변환한다.\n",
        "with open('/content/drive/MyDrive/Avengers.txt') as file:\n",
        "  text = file.read()\n",
        "  text_lower = text.lower()\n",
        "\n",
        "#print(text_lower)\n",
        "\n",
        "#모든 기호를 제거한다.\n",
        "import re\n",
        "text_cleaned = re.sub(r\"[^a-zA-Z0-9\\s]\", \"\", text_lower)\n",
        "\n",
        "#print(text_cleaned)\n",
        "\n",
        "#단어 단위로 분리한다.\n",
        "words = re.split(r\"\\s+\", text_cleaned)\n",
        "words = [word for word in words if word]\n",
        "\n",
        "#print(words)\n",
        "\n",
        "# 단어의 길이를 딕셔너리로 저장\n",
        "word_length = {word: len(word) for word in words}"
      ],
      "metadata": {
        "colab": {
          "base_uri": "https://localhost:8080/"
        },
        "id": "2KHiiVlPlq_e",
        "outputId": "234be269-c838-463f-f0eb-ec51edc15e71"
      },
      "execution_count": 8,
      "outputs": [
        {
          "output_type": "stream",
          "name": "stdout",
          "text": [
            "Drive already mounted at /content/drive; to attempt to forcibly remount, call drive.mount(\"/content/drive\", force_remount=True).\n"
          ]
        }
      ]
    },
    {
      "cell_type": "code",
      "source": [
        "# 결과 출력\n",
        "print(word_length)\n",
        "\n",
        "\n",
        "# sorted_words = sorted(word_frequency.keys(), key=lambda x: word_frequency[x], reverse=True)\n",
        "# word_to_index = {word: idx for idx, word in enumerate(sorted_words)}\n",
        "\n",
        "\n",
        "# word_indices = [word_to_index[word] for word in words]"
      ],
      "metadata": {
        "colab": {
          "base_uri": "https://localhost:8080/"
        },
        "id": "GHIjrDavl9y7",
        "outputId": "785b0827-3b41-4b8b-a5db-8e7ee71f434f"
      },
      "execution_count": 9,
      "outputs": [
        {
          "output_type": "stream",
          "name": "stdout",
          "text": [
            "{'the': 3, 'tesseract': 9, 'has': 3, 'awakened': 8, 'it': 2, 'is': 2, 'on': 2, 'a': 1, 'neutral': 7, 'world': 5, 'human': 5, 'they': 4, 'wield': 5, 'its': 3, 'power': 5, 'but': 3, 'our': 3, 'ally': 4, 'knows': 5, 'working': 7, 'so': 2, 'that': 4, 'never': 5, 'will': 4, 'learn': 5, 'hes': 3, 'ready': 5, 'to': 2, 'lead': 4, 'and': 3, 'force': 5, 'chitauri': 8, 'follow': 6, 'be': 2, 'his': 3, 'universe': 8, 'yours': 5, 'humans': 6, 'what': 4, 'can': 3, 'do': 2, 'burn': 4, 'how': 3, 'bad': 3, 'thats': 5, 'problem': 7, 'sir': 3, 'we': 2, 'dont': 4, 'know': 4, 'dr': 2, 'selvig': 6, 'read': 4, 'an': 2, 'energy': 6, 'surge': 5, 'from': 4, 'four': 4, 'hour': 4, 'ago': 3, 'nasa': 4, 'didnt': 5, 'authorize': 9, 'pull': 4, 'test': 4, 'phase': 5, 'he': 2, 'wasnt': 5, 'testing': 7, 'even': 4, 'in': 2, 'room': 4, 'spontaneous': 11, 'advancement': 11, 'just': 4, 'turned': 6, 'itself': 6, 'are': 3, 'engine': 6, 'levels': 6, 'now': 3, 'climbing': 8, 'when': 4, 'couldnt': 7, 'shut': 4, 'down': 4, 'ordered': 7, 'evac': 4, 'long': 4, 'get': 3, 'everyone': 8, 'out': 3, 'campus': 6, 'should': 6, 'clear': 5, 'next': 4, 'half': 4, 'better': 6, 'evacuation': 10, 'maybe': 5, 'futile': 6, 'tell': 4, 'them': 4, 'go': 2, 'back': 4, 'sleep': 5, 'if': 2, 'cant': 4, 'control': 7, 'tesseracts': 10, 'there': 5, 'may': 3, 'not': 3, 'minimum': 7, 'safe': 4, 'distance': 8, 'i': 1, 'need': 4, 'you': 3, 'make': 4, 'sure': 4, 'really': 6, 'priority': 8, 'right': 5, 'until': 5, 'such': 4, 'time': 4, 'as': 2, 'ends': 4, 'act': 3, 'though': 6, 'intends': 7, 'spin': 4, 'tech': 4, 'below': 5, 'every': 5, 'piece': 5, 'of': 2, '2': 1, 'truck': 5, 'gone': 4, 'yes': 3, 'come': 4, 'with': 4, 'me': 2, 'talk': 4, 'doctor': 6, 'director': 8, 'anything': 8, 'for': 3, 'certain': 7, 'misbehaving': 11, 'supposed': 8, 'funny': 5, 'no': 2, 'at': 2, 'all': 3, 'only': 4, 'active': 6, 'shesmisbehaving': 15, 'soon': 4, 'plug': 4, 'shes': 4, 'source': 6, 'turn': 4, 'off': 3, 'she': 3, 'turns': 5, 'reaches': 7, 'peak': 4, 'level': 5, 'weve': 4, 'prepared': 8, 'this': 4, 'harnessing': 10, 'space': 5, 'have': 4, 'harness': 7, 'calculations': 12, 'far': 3, 'complete': 8, 'throwing': 8, 'interference': 12, 'radiation': 9, 'nothing': 7, 'harmful': 7, 'low': 3, 'gamma': 5, 'wheres': 6, 'agent': 5, 'barton': 6, 'hawk': 4, 'up': 2, 'nest': 4, 'usual': 5, 'report': 6, 'gave': 4, 'detail': 6, 'could': 5, 'keep': 4, 'close': 5, 'eye': 3, 'things': 6, 'see': 3, 'seeing': 6, 'might': 5, 'set': 3, 'thing': 5, 'spiking': 7, 'again': 5, 'one': 3, 'or': 2, 'oven': 4, 'clean': 5, 'contacts': 8, 'ims': 3, 'was': 3, 'any': 3, 'tampering': 9, 'end': 3, 'cube': 4, 'door': 4, 'yeah': 4, 'doorway': 7, 'other': 5, 'doors': 5, 'open': 4, 'both': 4, 'sides': 5, 'please': 6, 'put': 3, 'spear': 5, 'heart': 5, 'still': 5, 'doesnt': 6, 'messier': 7, 'course': 6, 'does': 4, 'ive': 3, 'too': 3, 'else': 4, 'am': 2, 'loki': 4, 'asgard': 6, 'burdened': 8, 'glorious': 8, 'purpose': 7, 'brother': 7, 'thor': 4, 'quarrel': 7, 'your': 4, 'people': 6, 'ant': 3, 'boot': 4, 'planning': 8, 'step': 4, 'us': 2, 'glad': 4, 'tidings': 7, 'made': 4, 'free': 4, 'freedom': 7, 'lifes': 5, 'great': 5, 'lie': 3, 'once': 4, 'accept': 6, 'peace': 5, 'say': 3, 'kind': 4, 'think': 5, 'mean': 4, 'fury': 4, 'stalling': 8, 'place': 5, 'about': 5, 'blow': 4, 'drop': 4, 'hundred': 7, 'feet': 4, 'raw': 3, 'material': 8, 'means': 5, 'bury': 4, 'like': 4, 'pharaohs': 8, 'odin': 4, 'portal': 6, 'collapsing': 10, 'got': 3, 'two': 3, 'minutes': 7, 'before': 6, 'goes': 4, 'critical': 8, 'him': 3, 'these': 5, 'vehicles': 8, 'whos': 4, 'hill': 4, 'copy': 4, 'track': 5, 'ets': 3, 'leave': 5, 'cleared': 7, 'upstairs': 8, 'hostile': 7, 'men': 3, 'lot': 3, 'under': 5, 'many': 4, 'survivors': 9, 'sound': 5, 'general': 7, 'call': 4, 'want': 4, 'living': 6, 'soul': 4, 'needing': 7, 'rescue': 6, 'looking': 7, 'briefcase': 9, 'roger': 5, 'coulson': 7, 'base': 4, 'seven': 5, 'war': 3, 'subtitle': 8, 'by': 2, 'javani': 6, 'tonight': 7, 'believe': 7, 'must': 4, 'work': 4, 'lermentoville': 13, 'confident': 9, 'transport': 9, 'without': 7, 'thought': 7, 'tchalakov': 9, 'handle': 6, 'exports': 7, 'running': 7, 'boy': 3, 'doll': 4, 'outdated': 8, 'information': 11, 'derived': 7, 'fall': 4, 'famous': 6, 'black': 5, 'widow': 5, 'pretty': 6, 'face': 4, 'feel': 4, 'beautiful': 9, 'lermentovia': 11, 'tank': 4, 'give': 4, 'medium': 6, 'term': 4, 'hand': 4, 'true': 4, 'write': 5, 'ask': 3, 'listen': 6, 'carefully': 9, 'silenskin': 9, 'box': 3, '114': 3, 'third': 5, 'floor': 5, 'f22': 3, '13': 2, 'draw': 4, 'kilometer': 9, 'radius': 6, 'woman': 5, 'phone': 5, 'block': 5, 'lobby': 5, 'kidding': 7, 'im': 2, 'takes': 5, 'precedence': 10, 'middle': 6, 'interrogation': 13, 'moron': 5, 'giving': 6, 'everything': 10, 'look': 4, 'natasha': 7, 'bartons': 7, 'been': 4, 'compromised': 11, 'let': 3, 'hold': 4, 'alive': 5, 'ill': 3, 'brief': 5, 'first': 5, 'big': 3, 'guy': 3, 'stark': 5, 'trusts': 6, 'throw': 5, 'oh': 2, 'god': 3, 'here': 4, 'who': 3, 'away': 4, 'disease': 7, 'my': 2, 'father': 6, 'did': 3, 'wake': 4, 'body': 4, 'heat': 4, 'noise': 5, 'eyes': 4, 'slower': 6, 'rate': 4, 'paid': 4, 'front': 5, 'banner': 6, 'man': 3, 'avoiding': 8, 'stress': 6, 'picked': 6, 'hell': 4, 'settle': 6, 'isnt': 4, 'secret': 6, 'then': 4, 'yoga': 4, 'ou': 2, 'brought': 7, 'edge': 4, 'city': 4, 'smart': 5, 'uhassume': 8, 'whole': 5, 'surrounded': 10, 'actress': 7, 'buddy': 5, 'spy': 3, 'start': 5, 'young': 5, 'romanoff': 8, 'kill': 4, 'miss': 4, 'because': 7, 'gonna': 5, 'behalf': 6, 'shield': 6, 'find': 4, 'lost': 4, 'kept': 4, 'helped': 6, 'some': 4, 'interested': 10, 'parties': 7, 'scent': 5, 'why': 3, 'nick': 4, 'seems': 5, 'trust': 5, 'persuade': 8, 'theother': 8, 'says': 4, 'youve': 5, 'more': 4, 'than': 4, 'year': 4, 'incident': 8, 'wanna': 5, 'break': 5, 'streak': 6, 'were': 4, 'facing': 6, 'potential': 9, 'global': 6, 'catastrophe': 11, 'well': 4, 'those': 5, 'actively': 8, 'try': 3, 'avoid': 5, 'wipe': 4, 'planet': 6, 'swallow': 7, 'wants': 5, 'taken': 5, 'omits': 5, 'signature': 9, 'weak': 4, 'trace': 5, 'theres': 6, 'where': 5, 'id': 2, 'after': 5, 'monster': 7, 'told': 4, 'tells': 5, 'needs': 5, 'cage': 4, 'ones': 4, 'stop': 4, 'lying': 5, 'sorry': 5, 'wanted': 6, 'youd': 4, 'easy': 4, 'way': 3, 'use': 3, 'mess': 4, 'okay': 4, 'stand': 5, 'good': 4, 'line': 4, 'youre': 5, 'dealing': 7, 'forces': 6, 'ever': 4, 'councilman': 10, 'firefight': 9, 'over': 4, 'abundance': 9, 'saying': 6, 'declared': 8, 'alone': 5, 'intelligence': 12, 'worlds': 6, 'depend': 6, 'help': 4, 'either': 6, 'which': 5, 'focusing': 8, 'designed': 8, 'exactly': 7, 'enemy': 5, 'response': 8, 'team': 4, 'avengers': 8, 'initiative': 10, 'seen': 4, 'list': 4, 'greatest': 8, 'covert': 6, 'security': 8, 'network': 7, 'fate': 4, 'race': 4, 'handful': 7, 'freaks': 6, 'leaving': 7, 'anyone': 6, 'isolated': 8, 'unbalanced': 10, 'push': 4, 'won': 3, 'sentiment': 9, 'soldiers': 8, 'enough': 6, 'gotta': 5, 'into': 4, 'water': 5, 'wont': 4, 'trouble': 7, 'sleeping': 8, 'slept': 5, '70': 2, 'years': 5, 'had': 3, 'fill': 4, 'celebrating': 11, 'went': 4, 'mistakes': 8, 'along': 5, 'very': 4, 'recently': 8, 'mission': 7, 'trying': 6, 'save': 4, 'hydras': 6, 'weapon': 6, 'howard': 6, 'fished': 6, 'ocean': 5, 'key': 3, 'unlimited': 9, 'sustainable': 11, 'something': 9, 'sorely': 6, 'took': 4, 'called': 6, 'around': 6, 'bring': 5, 'speed': 5, 'gotten': 6, 'stranger': 8, 'already': 7, 'point': 5, 'doubt': 5, 'would': 5, 'surprise': 8, 'ten': 3, 'bucks': 5, 'wrong': 5, 'debriefing': 10, 'package': 7, 'waiting': 7, 'apartment': 9, 'ought': 5, 'left': 4, 'rest': 4, 'disconnected': 12, 'transition': 10, 'lines': 5, 'grid': 4, 'towers': 6, 'become': 6, 'beacon': 6, 'self': 4, 'sustaining': 10, 'wow': 3, 'reactor': 7, 'actually': 8, 'works': 5, 'assume': 6, 'light': 5, 'her': 3, 'christmas': 9, 'moreme': 6, 'wider': 5, 'public': 6, 'awareness': 9, 'campaign': 8, 'press': 5, 'tomorrow': 8, 'zoning': 6, 'billboards': 10, 'pepper': 6, 'killing': 7, 'remember': 8, 'enjoy': 5, 'moment': 6, 'afraid': 6, 'insisting': 9, 'jarvis': 6, 'date': 4, 'holding': 7, 'steadyi': 7, 'directly': 8, 'involved': 8, 'brings': 6, 'question': 8, 'genius': 6, 'ha': 2, 'wouldnt': 7, 'came': 4, 'yourself': 8, 'credit': 6, 'tower': 5, 'baby': 4, 'twelve': 6, 'percent': 7, 'argument': 8, 'fifteen': 7, 'heavy': 5, 'lifting': 7, 'literally': 9, 'lifted': 6, 'snafu': 5, 'private': 7, 'elevator': 8, 'teeming': 7, 'sweaty': 6, 'workmen': 7, 'going': 5, 'pay': 3, 'comment': 7, 'percentages': 11, 'subtle': 6, 'later': 5, 'arent': 5, 'building': 8, 'potts': 5, 'lease': 5, 'mom': 3, 'bunk': 4, 'telephone': 9, 'protocols': 9, 'being': 5, 'overwritten': 11, 'reached': 7, 'life': 4, 'model': 5, 'decoy': 5, 'tony': 4, 'message': 7, 'urgent': 6, 'urgently': 8, 'breach': 6, 'mr': 2, 'phil': 4, 'stay': 4, 'uhhis': 5, 'name': 4, 'staysoon': 8, 'possible': 8, 'handed': 6, 'alright': 7, 'cause': 5, 'love': 4, 'lets': 4, 'trade': 5, 'thank': 5, 'official': 8, 'consulting': 10, 'hours': 5, 'between': 7, 'eight': 5, 'five': 4, 'thursday': 8, 'consultation': 12, 'ii': 2, 'scrapped': 8, 'qualify': 7, 'apparently': 10, 'volatile': 8, 'obsessed': 8, 'play': 4, 'others': 6, 'personality': 11, 'profiles': 8, 'anymore': 7, 'whatever': 8, 'sec': 3, 'having': 6, 'serious': 7, 'phils': 5, 'shaken': 6, 'notice': 6, 'uh': 2, 'take': 4, 'jet': 3, 'dc': 2, 'homework': 8, 'finished': 8, 'square': 6, 'deal': 4, 'last': 4, 'hard': 4, 'drive': 5, 'past': 4, 'airport': 7, 'chance': 6, 'fantastic': 9, 'cellist': 7, 'relationship': 12, 'moved': 5, 'portland': 8, 'fortyminute': 11, 'replicate': 9, 'serum': 5, 'used': 4, 'superhero': 9, 'gammer': 6, 'unlocking': 9, 'erskines': 8, 'original': 8, 'formula': 7, 'much': 4, 'guys': 4, 'stephen': 7, 'hawking': 7, 'person': 6, 'honor': 5, 'meet': 4, 'officially': 10, 'sort': 4, 'met': 3, 'watched': 7, 'while': 5, 'wasi': 4, 'present': 7, 'unconscious': 11, 'ice': 3, 'ajust': 5, 'huge': 4, 'board': 5, 'hope': 4, 'job': 3, 'absolutely': 10, 'uhweve': 6, 'modifications': 13, 'uniform': 7, 'little': 6, 'design': 6, 'input': 5, 'stars': 5, 'stripes': 7, 'littleold': 9, 'fashioned': 9, 'happening': 9, 'old': 3, 'grow': 4, 'restless': 8, 'battle': 6, 'against': 7, 'meagre': 6, 'earth': 5, 'lengthy': 7, 'formidable': 10, 'claim': 5, 'scepter': 7, 'ancient': 7, 'knowledge': 9, 'new': 3, 'cast': 4, 'defeated': 8, 'king': 4, 'rightful': 8, 'betrayed': 8, 'ambition': 8, 'full': 4, 'childish': 8, 'beyond': 6, 'avail': 5, 'yet': 3, 'threaten': 8, 'mine': 4, 'command': 7, 'wars': 4, 'guardian': 8, 'fail': 4, 'realm': 5, 'barren': 6, 'moon': 4, 'crevasse': 8, 'pain': 4, 'receive': 7, 'sweet': 5, 'captain': 7, 'equipment': 9, 'rogers': 6, 'bridge': 6, 'quite': 5, 'buzz': 4, 'finding': 7, 'swoon': 5, 'sign': 4, 'america': 7, 'trading': 7, 'cards': 5, 'theyre': 6, 'vintage': 7, 'proud': 5, 'hi': 2, 'coming': 6, 'word': 4, 'care': 4, 'strange': 7, 'familiar': 8, 'gentlemen': 9, 'inside': 6, 'minute': 6, 'breath': 6, 'submarine': 9, 'submerged': 9, 'pressurized': 11, 'metal': 5, 'container': 9, 'worse': 5, 'operatingsheild': 15, 'emergency': 9, 'protocol1': 9, '9': 1, '36': 2, 'effect': 6, 'vanish': 6, 'engage': 6, 'retro': 5, 'reflection': 10, 'panels': 6, 'engaged': 7, 'thanks': 6, 'asking': 6, 'nicely': 6, 'uhhow': 5, 'staying': 7, 'hands': 5, 'sweeping': 8, 'wirelessly': 10, 'accessible': 10, 'camera': 6, 'cell': 4, 'phones': 6, 'laptops': 7, 'connected': 9, 'satellite': 9, 'ears': 4, 'narrow': 6, 'field': 5, 'spectrometers': 13, 'access': 6, 'lab': 3, 'roof': 4, 'calibrate': 9, 'rays': 4, 'rough': 5, 'tracking': 8, 'algorithm': 9, 'based': 5, 'cluster': 7, 'recognition': 11, 'least': 5, 'rule': 4, 'few': 3, 'places': 6, 'somewhere': 9, 'show': 4, 'laboratory': 10, 'doc': 3, 'toys': 4, 'stuff': 5, 'iridium': 7, 'found': 5, 'meteorites': 10, 'forms': 5, 'antiprotons': 11, 'specially': 9, 'showing': 7, 'itsits': 6, 'truth': 5, 'target': 6, 'distraction': 11, 'eyeball': 7, 'fine': 4, 'couple': 6, 'collect': 7, 'near': 4, 'mint': 4, 'slight': 6, 'foxing': 6, 'edges': 5, 'hit': 3, 'sixty': 5, 'match': 5, 'weight': 6, 'cross': 5, 'seventy': 7, 'nine': 4, 'location': 8, 'stuttgart': 9, 'germany': 7, '28': 2, 'canning': 7, 'strasse': 7, 'hiding': 6, 'kneel': 5, 'said': 4, 'simpler': 7, 'natural': 7, 'state': 5, 'unspoken': 8, 'humanity': 8, 'crave': 5, 'subjugation': 11, 'bright': 6, 'lure': 4, 'diminishes': 10, 'joy': 3, 'mad': 3, 'scramble': 8, 'identity': 8, 'ruled': 5, 'always': 6, 'elder': 5, 'example': 7, 'saw': 3, 'standing': 8, 'above': 5, 'everybody': 9, 'ended': 5, 'disagreeing': 11, 'today': 5, 'move': 4, 'reindeer': 8, 'names': 5, 'rock': 4, 'ages': 4, 'easily': 6, 'packs': 5, 'wallop': 6, 'spry': 4, 'older': 5, 'fellow': 6, 'whats': 5, 'pilates': 7, 'calisthenics': 12, 'missed': 6, 'doing': 5, 'capsicle': 8, 'calling': 7, 'matter': 6, 'scared': 6, 'lightning': 9, 'overly': 6, 'fond': 4, 'follows': 7, 'another': 7, 'asgardian': 9, 'friendly': 8, 'frees': 5, 'kills': 5, 'plan': 4, 'attack': 6, 'sit': 3, 'cap': 3, 'legends': 7, 'basically': 9, 'gods': 4, 'maam': 4, 'dress': 5, 'gaming': 6, 'mood': 4, 'bifrost': 7, 'dark': 4, 'allfather': 9, 'muster': 6, 'conjure': 7, 'precious': 8, 'dead': 4, 'mourn': 5, 'parentage': 9, 'raised': 6, 'together': 8, 'played': 6, 'fought': 6, 'none': 4, 'shadows': 7, 'shade': 5, 'greatness': 9, 'tossing': 7, 'abyss': 5, 'recompense': 10, 'imagined': 8, 'slights': 7, 'protection': 10, 'marvelous': 9, 'slaughter': 9, 'each': 4, 'droves': 6, 'ideally': 7, 'threat': 6, 'ruling': 6, 'throne': 6, 'suit': 4, 'known': 5, 'grown': 5, 'odins': 5, 'son': 3, 'exile': 5, 'showed': 6, 'controls': 8, 'poisonous': 9, 'dream': 5, 'home': 4, 'sent': 4, 'listening': 9, 'touch': 5, 'idea': 4, 'uhshakespeare': 13, 'park': 4, 'doth': 4, 'mother': 6, 'weareth': 7, 'drapes': 6, 'justice': 7, 'gives': 5, 'tourist': 7, 'lokis': 5, 'schemes': 7, 'prove': 5, 'hammer': 6, 'uhyep': 5, 'loves': 5, 'done': 4, 'case': 4, 'unclear': 7, 'escape': 6, 'scratch': 7, 'glass': 5, 'thirty': 6, 'thousand': 8, 'straight': 8, 'steel': 5, 'trap': 4, 'impressive': 10, 'built': 5, 'stronger': 8, 'heard': 5, 'mindless': 8, 'beast': 5, 'makes': 5, 'desperate': 9, 'creatures': 9, 'defend': 6, 'steal': 5, 'fun': 3, 'ooh': 3, 'burns': 5, 'mankind': 7, 'share': 5, 'reminded': 8, 'real': 4, 'magazine': 8, 'grows': 5, 'drag': 4, 'army': 4, 'nor': 3, 'win': 3, 'return': 6, 'suspect': 7, 'outer': 5, 'erik': 4, 'astrophysicist': 14, 'friend': 6, 'spell': 5, 'ours': 4, 'leading': 7, 'brain': 5, 'bag': 3, 'cats': 4, 'smell': 5, 'crazy': 5, 'speak': 5, 'reason': 6, 'killed': 6, 'eighty': 6, 'days': 4, 'adopted': 7, 'mechanics': 9, 'stabilizing': 11, 'collapse': 8, 'feelings': 8, 'swing': 5, 'also': 4, 'wide': 4, 'playing': 7, 'gallaga': 7, 'sounds': 6, 'exhausting': 10, 'materials': 9, 'major': 5, 'component': 9, 'high': 4, 'density': 7, 'kick': 4, 'expert': 6, 'thermonuclear': 13, 'astrophysics': 12, 'night': 5, 'packet': 6, 'selvigs': 7, 'notes': 5, 'extraction': 10, 'theory': 6, 'papers': 6, 'reading': 7, 'particular': 10, 'twenty': 6, 'million': 7, 'kelvin': 6, 'through': 7, 'coulomb': 7, 'barrier': 7, 'unless': 6, 'figured': 7, 'stabilize': 9, 'quantum': 7, 'tunnelling': 10, 'achieve': 7, 'ion': 3, 'fusion': 6, 'finally': 7, 'someone': 7, 'speaks': 6, 'english': 7, 'happened': 8, 'antielectron': 12, 'collisions': 10, 'unparalleled': 12, 'fan': 3, 'lose': 4, 'enormous': 8, 'green': 5, 'rage': 4, 'hoping': 6, 'join': 4, 'stick': 5, 'magical': 7, 'awful': 5, 'hydra': 5, 'powered': 7, 'sharpest': 8, 'personal': 8, 'flying': 6, 'monkeys': 7, 'understand': 10, 'understood': 10, 'reference': 9, 'shall': 5, 'readings': 8, 'definitely': 10, 'consistent': 10, 'reports': 7, 'weeks': 5, 'process': 7, 'bypass': 6, 'their': 5, 'mainframe': 9, 'direct': 6, 'reroute': 7, 'homer': 5, 'clock': 5, 'six': 3, 'teraflops': 9, 'packed': 6, 'tooth': 5, 'brush': 5, 'sometimetop': 11, 'floors': 6, 'r': 1, 'd': 1, 'candy': 5, 'land': 4, 'york': 4, 'broke': 5, 'harlem': 6, 'promise': 7, 'environment': 11, 'tension': 7, 'surprises': 9, 'nuts': 4, 'lid': 3, 'havent': 6, 'mellow': 6, 'jazz': 4, 'bongo': 5, 'drums': 5, 'weed': 4, 'joke': 4, 'threatening': 11, 'safety': 6, 'ship': 4, 'offense': 7, 'itits': 5, 'aboard': 6, 'pointy': 6, 'tiptoeing': 9, 'strut': 5, 'focus': 5, 'telling': 7, 'equation': 8, 'variables': 9, 'furys': 5, 'secrets': 7, 'bugging': 7, 'finish': 6, 'jab': 3, 'meant': 5, 'post': 4, 'news': 4, 'ugly': 4, 'reactors': 8, 'run': 3, 'prototype': 9, 'project': 7, 'business': 8, 'probably': 8, 'decryption': 10, 'programme': 9, 'finishes': 8, 'breaking': 8, 'shields': 7, 'secure': 6, 'files': 5, 'since': 5, 'dirty': 5, 'tried': 5, 'hide': 4, 'blueberry': 9, 'confused': 8, 'organization': 12, 'fears': 5, 'historically': 12, 'wind': 4, 'focused': 7, 'succeed': 7, 'orders': 6, 'following': 9, 'style': 5, 'awearing': 8, 'spangly': 7, 'outfit': 6, 'b': 1, 'steve': 5, 'smells': 6, 'funky': 5, 'dad': 3, 'wondering': 9, 'shouldnt': 8, 'jump': 4, 'acme': 4, 'dynamite': 8, 'kit': 3, 'youll': 5, 'suiting': 7, 'ah': 2, 'armor': 5, 'exposed': 7, 'nerve': 5, 'nightmare': 9, 'shrapnel': 8, 'second': 6, 'crawl': 5, 'stops': 5, 'circle': 6, 'part': 4, 'terrible': 8, 'privilege': 9, 'learned': 7, 'different': 9, 'hey': 3, 'accident': 8, 'exposure': 8, 'hulk': 4, 'saved': 5, 'nice': 4, 'guess': 5, 'jane': 4, 'foster': 6, 'excellent': 9, 'observatory': 11, 'traunsee': 8, 'asked': 5, 'consult': 7, 'suddenly': 8, 'yesterday': 9, 'handsome': 8, 'fee': 3, 'plane': 5, 'remote': 6, 'shell': 5, 'taking': 6, 'dread': 5, 'plans': 5, 'talks': 5, 'changed': 7, 'pretend': 7, 'advanced': 8, 'battling': 8, 'bilchsteim': 10, 'scaly': 5, 'antlers': 7, 'repulsive': 9, 'trample': 7, 'path': 4, 'followed': 8, 'price': 5, 'n': 1, 'youth': 5, 'courted': 7, 'hasnt': 5, 'started': 7, 'mind': 4, 'afield': 6, 'craves': 6, 'vengeance': 9, 'upon': 4, 'prise': 5, 'prisoner': 8, 'boat': 4, 'sneak': 5, 'tortures': 8, 'concoct': 7, 'appear': 6, 'balm': 4, 'cooperate': 9, 'expanded': 8, 'mountain': 8, 'happens': 7, 'children': 8, 'owe': 3, 'debt': 4, 'worked': 6, 'myself': 6, 'specific': 8, 'skillset': 8, 'radar': 5, 'vow': 3, 'spare': 5, 'balance': 7, 'bargain': 7, 'regimes': 7, 'everyday': 8, 'tend': 4, 'weep': 4, 'russian': 7, 'complicated': 11, 'red': 3, 'ledger': 6, 'drakoffs': 8, 'daughter': 8, 'sao': 3, 'paulo': 5, 'hospital': 8, 'file': 4, 'dripping': 8, 'gushing': 7, 'saving': 6, 'virtuous': 8, 'change': 6, 'basest': 6, 'sentimentality': 14, 'child': 5, 'prayer': 6, 'pathetic': 8, 'service': 7, 'liars': 5, 'killers': 7, 'separate': 8, 'own': 3, 'code': 4, 'horrors': 7, 'barter': 6, 'slowly': 6, 'intimately': 10, 'fear': 4, 'screams': 7, 'split': 5, 'skull': 5, 'mewling': 7, 'quin': 4, 'unleash': 7, 'locked': 6, 'cooperation': 11, 'same': 4, 'locating': 8, 'models': 6, 'within': 6, 'mile': 4, 'muss': 4, 'fuss': 4, 'weapons': 7, 'computer': 8, 'moving': 6, 'slow': 4, 'gathered': 8, 'related': 7, 'tesseractthis': 13, 'bit': 3, 'removing': 8, 'calcutta': 8, 'removed': 7, 'manipulating': 12, 'bat': 3, 'eyelashes': 9, 'twitchy': 7, 'using': 5, 'build': 5, 'mass': 4, 'destruction': 11, 'visitor': 7, 'grudge': 6, 'levelled': 8, 'small': 5, 'town': 4, 'hopelessly': 10, 'hilariously': 11, 'gunned': 6, 'filling': 7, 'matched': 7, 'controlled': 10, 'drew': 4, 'allies': 6, 'signal': 6, 'realms': 6, 'higher': 6, 'form': 4, 'forced': 6, 'handwe': 6, 'nuclear': 7, 'deterrent': 9, 'calms': 5, 'remind': 6, 'fortune': 7, 'neck': 4, 'deep': 4, 'wait': 4, 'evolved': 7, 'excuse': 6, 'court': 5, 'chaos': 5, 'mo': 2, 'chemical': 8, 'mixture': 7, 'werewere': 8, 'timebomb': 8, 'steam': 5, 'damn': 4, 'starting': 8, 'billionaire': 11, 'playboy': 7, 'philanthropist': 14, 'worth': 5, 'footage': 7, 'fight': 5, 'sacrifice': 9, 'lay': 3, 'wire': 4, 'cut': 3, 'pretending': 10, 'hero': 4, 'experiment': 10, 'special': 7, 'bottle': 6, 'suite': 5, 'rounds': 6, 'petty': 5, 'tiny': 4, 'escort': 6, 'renting': 7, 'needed': 6, 'bullet': 6, 'mouth': 5, 'spit': 4, 'helping': 7, 'dragged': 7, 'freak': 5, 'risk': 4, 'calm': 4, 'kids': 4, 'party': 5, 'trick': 5, 'located': 7, 'faster': 6, 'belongs': 7, 'yep': 3, 'detonation': 10, 'number': 6, 'three': 5, 'engines': 7, 'fire': 4, 'turbine': 7, 'looks': 5, 'mostly': 6, 'intact': 6, 'impossible': 10, 'repair': 6, 'outside': 7, 'patch': 5, 'capy': 4, 'attentionwait': 13, 'cameras': 7, 'bruce': 5, 'swear': 5, 'walk': 4, 'carrying': 8, '180': 3, 'south': 5, 'navigation': 10, 'recalibration': 13, 'failure': 7, 'sun': 3, 'trapped': 7, 'super': 5, 'conducting': 10, 'cooling': 7, 'system': 6, 'online': 6, 'rotors': 6, 'dislodging': 10, 'debris': 6, 'panel': 5, 'relays': 6, 'overload': 8, 'position': 8, 'electricity': 11, 'enemies': 7, 'reengage': 8, 'gets': 4, 'shredded': 8, 'unit': 4, 'reverse': 7, 'polarity': 8, 'disengage': 9, 'mag': 3, 'lever': 5, 'itll': 4, 'lower': 5, 'deck': 4, 'grenade': 7, 'perimeter': 9, 'wiped': 5, 'gear': 4, 'research': 8, 'tear': 4, 'apart': 5, 'attention': 9, 'escorts': 7, 'o': 1, 'proceed': 7, 'acquired': 8, 'headed': 6, 'detention': 9, 'anybody': 7, 'romanoffi': 9, 'starkwe': 7, 'losing': 6, 'altitude': 8, 'noticed': 7, 'immortal': 8, 'destroyer': 9, 'nature': 6, 'heroes': 6, 'scattered': 9, 'floating': 8, 'fortress': 8, 'falls': 5, 'sky': 3, 'disadvantage': 12, 'lack': 4, 'conviction': 10, 'boss': 4, 'rabbited': 8, 'awake': 5, 'clockin': 7, 'option': 6, 'medical': 7, 'coulsons': 8, 'jacket': 6, 'air': 3, 'communications': 14, 'arsenal': 7, 'chips': 5, 'riskier': 7, 'group': 5, 'remarkable': 10, 'battles': 7, 'died': 4, 'believing': 9, 'notion': 6, 'fell': 4, 'hurt': 4, 'nobody': 6, 'scare': 5, 'pigeons': 7, 'lucky': 5, 'aim': 3, 'ceiling': 7, 'buck': 4, 'ass': 3, 'nude': 4, 'fit': 3, 'shrunk': 6, 'regular': 7, 'size': 4, 'fella': 5, 'alien': 5, 'condition': 9, 'clint': 5, 'goti': 4, 'flush': 5, 'send': 4, 'unmade': 6, 'cognitive': 9, 'head': 4, 'agents': 6, 'monsters': 8, 'magic': 5, 'trained': 7, 'suppose': 7, 'arrow': 5, 'socket': 6, 'soldier': 7, 'wade': 4, 'married': 7, 'acellist': 8, 'seemed': 6, 'idiot': 5, 'league': 6, 'waited': 6, 'sometimes': 9, 'marching': 8, 'fife': 4, 'neither': 7, 'blood': 5, 'behind': 6, 'live': 4, 'conquer': 7, 'greed': 5, 'beat': 4, 'audience': 8, 'caught': 6, 'previews': 8, 'opening': 7, 'fulltail': 8, 'diva': 4, 'flowers': 7, 'parades': 7, 'monument': 8, 'skies': 5, 'plastered': 9, 'fly': 3, 'jets': 4, 'authorized': 10, 'ranugal': 7, 'device': 6, 'sustainig': 9, 'late': 4, 'pure': 4, 'unbreachable': 12, 'mark': 4, '7': 1, 'deployment': 10, 'skip': 4, 'spinning': 8, 'ringwere': 8, 'appeal': 6, 'uhactually': 10, 'mileage': 7, 'blue': 4, 'destiny': 7, 'ourselves': 9, 'earths': 6, 'mightiest': 9, 'type': 4, 'traction': 8, 'count': 5, 'demigod': 7, 'legend': 6, 'lives': 5, 'breathtaking': 12, 'anger': 5, 'management': 10, 'issues': 6, 'master': 6, 'assassins': 9, 'managed': 7, 'piss': 4, 'single': 6, 'theyll': 6, 'wandered': 8, 'missing': 7, 'version': 7, 'top': 3, 'comes': 5, 'protect': 7, 'damned': 6, 'avenge': 6, 'friends': 7, 'busy': 4, 'fighting': 8, 'performance': 11, 'anytime': 7, 'pissed': 6, 'destroy': 7, 'stopping': 8, 'heading': 7, 'north': 5, 'east': 4, 'drivethrough': 12, 'incoming': 8, 'occupied': 8, 'nat': 3, 'shown': 5, 'posted': 6, 'soft': 4, 'spot': 4, 'madness': 7, 'civilian': 8, 'genuine': 7, 'pleasure': 8, 'budapest': 8, 'differently': 11, 'national': 8, 'guard': 5, 'buildings': 9, 'basement': 8, 'subway': 6, 'streets': 7, '39th': 4, '39': 2, 'street': 6, 'heads': 5, 'hear': 4, 'powers': 6, 'surrounding': 11, 'impenetrable': 12, 'unfinished': 10, 'wild': 4, 'horrible': 8, 'banne': 5, 'bringing': 8, 'angry': 5, 'containment': 11, 'patterns': 8, 'strays': 6, 'blocks': 6, 'ash': 3, 'lift': 4, 'clench': 6, 'legoolas': 8, 'bottleneck': 10, 'bastards': 8, 'ground': 6, 'bsmashb': 7, 'smash': 5, 'grrr': 4, 'xoxoxo': 6, 'strand': 6, 'bang': 4, 'squadron': 8, '6': 1, 'invite': 6, 'biggest': 7, 'guns': 4, 'ride': 4, 'boost': 5, 'council': 7, 'decision': 8, 'recognize': 9, 'given': 5, 'stupid': 6, 'assed': 5, 'elected': 7, 'ignore': 6, 'closer': 6, 'subs': 4, 'island': 6, 'manhattan': 9, 'order': 5, 'strike': 6, 'population': 10, 'bird': 4, 'hawkeye': 7, 'beneath': 7, 'dull': 4, 'creature': 8, 'bullied': 7, 'puny': 4, 'energythe': 9, 'fault': 5, 'able': 4, 'penetrate': 9, 'jonah': 5, 'considering': 11, 'role': 4, 'longer': 6, 'responsible': 11, 'overwrite': 9, '7alfa11': 7, 'born': 4, 'motion': 6, 'repeat': 6, 'missile': 7, 'best': 4, 'load': 4, 'seconds': 7, 'bout': 4, 'gettin': 6, 'sleepy': 6, 'nuke': 4, 'less': 4, 'trip': 4, 'jarvs': 5, 'tray': 4, 'battleground': 12, 'contain': 7, 'violence': 8, 'clearly': 7, 'iron': 4, 'slowing': 7, 'kissed': 6, 'day': 3, 'shawarma': 8, 'joint': 5, 'drink': 5, 'devastation': 11, 'confirmed': 9, 'extra': 5, 'terrestrial': 11, 'extraordinary': 13, 'heroic': 6, 'held': 4, 'currently': 9, 'whereabouts': 11, 'theyd': 5, 'earned': 6, 'absence': 7, 'reach': 5, 'criminal': 8, 'answering': 9, 'crime': 5, 'letting': 7, 'loose': 5, 'dangerous': 9, 'surely': 6, 'statement': 9, 'theyve': 6, 'ways': 4, 'extremely': 9, 'situation': 9, 'mam': 3, 'hai': 3, 'shortage': 8, '40': 2, 'capacity': 8, 'bsecure': 7, 'storage': 7, '10cb': 4, 'bshield': 7, 'accelerator': 11, 'factoryb': 8, 'argue': 5}\n"
          ]
        }
      ]
    }
  ]
}