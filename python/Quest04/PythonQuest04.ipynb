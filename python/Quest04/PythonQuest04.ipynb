{
  "nbformat": 4,
  "nbformat_minor": 0,
  "metadata": {
    "colab": {
      "provenance": [],
      "include_colab_link": true
    },
    "kernelspec": {
      "name": "python3",
      "display_name": "Python 3"
    },
    "language_info": {
      "name": "python"
    }
  },
  "cells": [
    {
      "cell_type": "markdown",
      "metadata": {
        "id": "view-in-github",
        "colab_type": "text"
      },
      "source": [
        "<a href=\"https://colab.research.google.com/github/gong-aipel/AIFFEL_quest_cr/blob/main/python/Quest04/PythonQuest04.ipynb\" target=\"_parent\"><img src=\"https://colab.research.google.com/assets/colab-badge.svg\" alt=\"Open In Colab\"/></a>"
      ]
    },
    {
      "cell_type": "markdown",
      "source": [
        "홍지수) 예외 처리를 해야 할 부분들이 많아서 고민이 많았습니다. 프로그램을 만들 때 예외 처리가 가장 중요하다고 생각했지만, 실제로는 놓친 부분이 많았던 것 같습니다. 옥례님과 함께 이야기하면서 더 나은 해결책을 찾고, 중요한 부분들을 놓치지 않도록 할 수 있었습니다.\n",
        "\n",
        "공옥례) 코딩을 해석할 정도는 간신히 되고 있는 것 같지만 아직 어렵다고 생각됩니다."
      ],
      "metadata": {
        "id": "iD5Bfw4Q1bOU"
      }
    },
    {
      "cell_type": "code",
      "source": [],
      "metadata": {
        "id": "9b6gKUWc6PXy"
      },
      "execution_count": null,
      "outputs": []
    },
    {
      "cell_type": "markdown",
      "source": [
        "# 로직\n",
        "\n",
        "\n",
        "1.   while True로 무한루프를 생성해 사용자로부터 두 개의 정수와 연산자(덧셈, 뺄셈, 곱셈, 나눗셈, 거듭제곱)를 입력받음\n",
        "  \n",
        "  1-1. 정수가 아닌 경우, ValueError 발생\n",
        "\n",
        "  1-2. 정수가 입력될 때 까지 “잘못된 입력입니다. 정수를 입력해주세요.”를 출력하며 다시 입력받기를 시도\n",
        "\n",
        "2.   연산자별로 계산을 진행하며 결과값을 저장한다.\n",
        "\n",
        "  2-1. 나눗셈 연산 시 두 번째 정수가 0인 경우,  ZeroDivisionError로 오류 메세지 출력\n",
        "\n",
        "3.   계속 계산을 할 것인지 입력받음\n"
      ],
      "metadata": {
        "id": "MJRkh_KUic2f"
      }
    },
    {
      "cell_type": "code",
      "execution_count": null,
      "metadata": {
        "id": "bZedrRnZiZJp"
      },
      "outputs": [],
      "source": [
        "import math\n",
        "\n",
        "def getInt(prompt): # 1.while True로 무한루프를 생성해 사용자로부터 두 개의 정수를 입력받음\n",
        "    while True:\n",
        "        try:\n",
        "            return int(input(prompt))\n",
        "        except ValueError: # 1-1. 정수가 아닌 경우, ValueError 발생\n",
        "            print(\"잘못된 입력입니다. 정수를 입력해주세요.\") # 1-2. 정수가 입력될 때 까지 다시 입력받기 시도\n",
        "\n",
        "def getOperator(): # 1. while True로 무한루프를 생성해 연산자(덧셈, 뺄셈, 곱셈, 나눗셈, 거듭제곱)를 입력받음\n",
        "    valid_operators = ['+', '-', '*', '/', '**']\n",
        "    while True:\n",
        "        operator = input('연산자를 입력하세요: ')\n",
        "        if operator in valid_operators:\n",
        "            return operator\n",
        "        else:\n",
        "            print(\"지원하지 않는 연산자입니다! (+, -, *, /, **) 중에서 선택해주세요.\")\n",
        "\n",
        "def calculator():\n",
        "  while True:\n",
        "    # 정수 입력\n",
        "    num1 = getInt('첫번째 정수를 입력하세요: ')\n",
        "    num2 = getInt('두번째 정수를 입력하세요: ')\n",
        "\n",
        "    # 연산자 입력\n",
        "    operator = getOperator()\n",
        "\n",
        "    result = 0\n",
        "\n",
        "    try: # 2. 연산자별로 계산을 진행하며 결과값을 저장\n",
        "      if operator == \"+\":\n",
        "        result = num1 + num2\n",
        "      elif operator == \"-\":\n",
        "        result = num1 - num2\n",
        "      elif operator == \"*\":\n",
        "        result = num1 * num2\n",
        "      elif operator == \"/\":\n",
        "        if num2 == 0: # 2-1. 나눗셈 연산 시 두 번째 정수가 0인 경우, ZeroDivisionError로 오류 메세지 출력\n",
        "          raise ZeroDivisionError(\"0으로 나눌 수 없습니다.\")\n",
        "        result = num1 / num2\n",
        "      elif operator == \"**\":\n",
        "        result = math.pow(num1, num2)\n",
        "\n",
        "      print(\"결과: \", result)\n",
        "\n",
        "    except ZeroDivisionError as e:\n",
        "      print(e)\n",
        "\n",
        "    while True: # 3. 계속 계산을 할 것인지 입력받음\n",
        "      continue_cal = input(\"계산을 계속하시겠습니까? (y/n): \").lower()\n",
        "      if continue_cal == 'y':\n",
        "          break\n",
        "      elif continue_cal == 'n':\n",
        "          print(\"계산을 종료합니다.\")\n",
        "          return\n",
        "      else:\n",
        "          print(\"잘못된 입력입니다. y 또는 n을 입력해주세요.\") # y 혹은 n을 입력할 수 있도록 명료화"
      ]
    },
    {
      "cell_type": "code",
      "source": [
        "# 새로운 시도2\n",
        "# 연산자 받는 부분을 calculator에 넣고, 지원하지 않는 연산자일 경우 continue\n",
        "# 하지만, 이 경우에는 다시 첫번째 정수부터 입력해야한다는 단점이 있음\n",
        "import math\n",
        "\n",
        "def getInt(prompt): # 정수를 불러오기 위해 getint를 사용하여 정의해줌\n",
        "    while True:\n",
        "        try:\n",
        "            return int(input(prompt))\n",
        "        except ValueError:\n",
        "            print('잘못된 입력입니다. 정수를 입력해주세요.')\n",
        "\n",
        "def calculator():\n",
        "  while True:\n",
        "    # 정수 입력\n",
        "    num1 = getInt('첫번째 정수를 입력하세요: ')\n",
        "    num2 = getInt('두번째 정수를 입력하세요: ')\n",
        "\n",
        "    # 연산자 입력\n",
        "    operator = input('연산자를 입력하세요: ')\n",
        "\n",
        "    result = 0\n",
        "\n",
        "    try:\n",
        "      if operator == \"+\":\n",
        "        result = num1 + num2\n",
        "      elif operator == \"-\":\n",
        "        result = num1 - num2\n",
        "      elif operator == \"*\":\n",
        "        result = num1 * num2\n",
        "      elif operator == \"/\":\n",
        "        if num2 == 0:\n",
        "          raise ZeroDivisionError(\"0으로 나눌 수 없습니다.\")\n",
        "        result = num1 / num2\n",
        "      elif operator == \"**\":\n",
        "        result = math.pow(num1, num2)\n",
        "      else: # 달라진 부분 ‼️\n",
        "        print(\"지원하지 않는 연산자입니다.\")\n",
        "        continue\n",
        "\n",
        "      print(\"결과: \", result)\n",
        "    except ZeroDivisionError as e: # 나누기가 안되면 e로 빼주자\n",
        "      print(e)\n",
        "\n",
        "    while True:\n",
        "      continue_cal = input(\"계산을 계속하시겠습니까? (y/n): \").lower()\n",
        "      if continue_cal == 'y':\n",
        "          break\n",
        "      elif continue_cal == 'n':\n",
        "          print(\"계산을 종료합니다.\")\n",
        "          return\n",
        "      else:\n",
        "          print(\"잘못된 입력입니다. y 또는 n을 입력해주세요.\") # y 혹은 n을 입력할 수 있도록 명료화"
      ],
      "metadata": {
        "id": "9Ae9s81AylEo"
      },
      "execution_count": null,
      "outputs": []
    },
    {
      "cell_type": "code",
      "source": [
        "calculator()"
      ],
      "metadata": {
        "colab": {
          "base_uri": "https://localhost:8080/"
        },
        "id": "VMX70DTrt-nF",
        "outputId": "d76ed8da-b4ea-46da-fa28-0d4fa4c44842"
      },
      "execution_count": null,
      "outputs": [
        {
          "output_type": "stream",
          "name": "stdout",
          "text": [
            "첫번째 정수를 입력하세요: 1\n",
            "두번째 정수를 입력하세요: 3\n",
            "연산자를 입력하세요: +\n",
            "결과:  4\n",
            "계산을 계속하시겠습니까? (y/n): y\n",
            "첫번째 정수를 입력하세요: 4\n",
            "두번째 정수를 입력하세요: 0\n",
            "연산자를 입력하세요: /\n",
            "0으로 나눌 수 없습니다.\n",
            "계산을 계속하시겠습니까? (y/n): y\n",
            "첫번째 정수를 입력하세요: 2\n",
            "두번째 정수를 입력하세요: &&\n",
            "잘못된 입력입니다. 정수를 입력해주세요.\n",
            "두번째 정수를 입력하세요: 3\n",
            "연산자를 입력하세요: ^^\n",
            "지원하지 않는 연산자입니다! (+, -, *, /, **) 중에서 선택해주세요.\n",
            "연산자를 입력하세요: 4\n",
            "지원하지 않는 연산자입니다! (+, -, *, /, **) 중에서 선택해주세요.\n",
            "연산자를 입력하세요: *\n",
            "결과:  6\n",
            "계산을 계속하시겠습니까? (y/n): n\n",
            "계산을 종료합니다.\n"
          ]
        }
      ]
    }
  ]
}